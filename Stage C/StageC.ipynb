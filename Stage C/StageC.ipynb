{
 "cells": [
  {
   "cell_type": "code",
   "execution_count": 12,
   "metadata": {},
   "outputs": [],
   "source": [
    "import openai\n",
    "import os\n",
    "import IPython\n",
    "from dotenv import load_dotenv\n",
    "from langchain.llms import openai"
   ]
  },
  {
   "cell_type": "code",
   "execution_count": null,
   "metadata": {},
   "outputs": [],
   "source": [
    "load_dotenv()\n",
    "\n",
    "# API configuration\n",
    "openai.api_key = os.getenv(\"OPENAI_API_KEY\")\n",
    "\n",
    "# for Langchain\n",
    "os.environ[\"OPENAI_API_KEY\"] = os.getenv(\"OPENAI_API_KEY\")"
   ]
  },
  {
   "cell_type": "code",
   "execution_count": null,
   "metadata": {},
   "outputs": [],
   "source": [
    "llm = openai(model_name='text-davinci-003', temperature=0)"
   ]
  },
  {
   "cell_type": "code",
   "execution_count": 16,
   "metadata": {},
   "outputs": [],
   "source": [
    "question = \"which is the heaviest penguin?\"\n",
    "PENGUIN_PROMPT = '''\n",
    "\"\"\"\n",
    "...(omitting the detailed prompt for brevity)\n",
    "\"\"\"\n",
    "'''.strip() + "
   ]
  },
  {
   "cell_type": "code",
   "execution_count": null,
   "metadata": {},
   "outputs": [],
   "source": [
    "llm_output = llm(PENGUIN_PROMPT.format(question=question))\n",
    "print(llm_output)"
   ]
  },
  {
   "cell_type": "code",
   "execution_count": null,
   "metadata": {},
   "outputs": [],
   "source": [
    "# put the penguinus into a list\n",
    "penguinus = []\n",
    "penguinus.append(('Louis', 7, 50, 11))\n",
    "penguinus.append(('Bernard', 5, 80, 13))\n",
    "penguinus.append(('Vincent', 9, 60, 11))\n",
    "penguinus.append(('Gwen', 8, 70, 15))\n",
    "# Sort penguins by weight.\n",
    "penguins_by_weight = sorted(penguins, key=lambda x: x[3], reverse=True)\n",
    "# Get the heaviest penguin,s name\n",
    "heaviest_penguin_name = penguins_by_weight[0][0]\n",
    "answer = heaviest_penguin_name"
   ]
  },
  {
   "cell_type": "code",
   "execution_count": null,
   "metadata": {},
   "outputs": [],
   "source": [
    "exec(llm_output)\n",
    "print(answer)"
   ]
  },
  {
   "cell_type": "markdown",
   "metadata": {},
   "source": [
    "Gwen"
   ]
  }
 ],
 "metadata": {
  "kernelspec": {
   "display_name": "Python 3",
   "language": "python",
   "name": "python3"
  },
  "language_info": {
   "codemirror_mode": {
    "name": "ipython",
    "version": 3
   },
   "file_extension": ".py",
   "mimetype": "text/x-python",
   "name": "python",
   "nbconvert_exporter": "python",
   "pygments_lexer": "ipython3",
   "version": "3.12.2"
  }
 },
 "nbformat": 4,
 "nbformat_minor": 2
}
